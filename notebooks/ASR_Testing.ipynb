{
 "cells": [
  {
   "cell_type": "code",
   "execution_count": 1,
   "id": "4203cf54-809d-4ffe-bd77-83107b70c8a0",
   "metadata": {},
   "outputs": [
    {
     "name": "stdout",
     "output_type": "stream",
     "text": [
      "Libraries loaded successfully!\n",
      "Torch version: 2.6.0\n",
      "Torchaudio version: 2.6.0\n"
     ]
    }
   ],
   "source": [
    "import torch\n",
    "import torchaudio\n",
    "import librosa\n",
    "from transformers import Wav2Vec2Processor, Wav2Vec2ForCTC\n",
    "\n",
    "print(\"Libraries loaded successfully!\")\n",
    "print(\"Torch version:\", torch.__version__)\n",
    "print(\"Torchaudio version:\", torchaudio.__version__)\n"
   ]
  },
  {
   "cell_type": "code",
   "execution_count": 5,
   "id": "d35c46f8-a85f-4514-9afc-c7824b216382",
   "metadata": {},
   "outputs": [
    {
     "name": "stdout",
     "output_type": "stream",
     "text": [
      "File found: ../audio_samples/Yasser_Al-Dossari_1_1_1.wav\n"
     ]
    }
   ],
   "source": [
    "import os\n",
    "\n",
    "audio_path = \"../audio_samples/Yasser_Al-Dossari_1_1_1.wav\" \n",
    "\n",
    "if not os.path.exists(audio_path):\n",
    "    print(f\"ERROR: File not found → {audio_path}\")\n",
    "else:\n",
    "    print(f\"File found: {audio_path}\")\n"
   ]
  },
  {
   "cell_type": "code",
   "execution_count": 6,
   "id": "5c92eec1-86d6-40e5-a192-b90ce7a45177",
   "metadata": {},
   "outputs": [],
   "source": [
    "from huggingface_hub import login\n",
    "\n",
    "#Hugging Face API token\n",
    "login(input(\"Enter your Hugging Face Token: \"))"
   ]
  },
  {
   "cell_type": "code",
   "execution_count": 7,
   "id": "03fac791-66c3-4be3-a07f-a3c7f7ce0b4d",
   "metadata": {},
   "outputs": [
    {
     "name": "stderr",
     "output_type": "stream",
     "text": [
      "/opt/anaconda3/envs/asr_env/lib/python3.9/site-packages/transformers/configuration_utils.py:315: UserWarning: Passing `gradient_checkpointing` to a config initialization is deprecated and will be removed in v5 Transformers. Using `model.gradient_checkpointing_enable()` instead, or if you are using the `Trainer` API, pass `gradient_checkpointing=True` in your `TrainingArguments`.\n",
      "  warnings.warn(\n"
     ]
    },
    {
     "name": "stdout",
     "output_type": "stream",
     "text": [
      "ASR Model Loaded Successfully!\n"
     ]
    }
   ],
   "source": [
    "from transformers import Wav2Vec2Processor, Wav2Vec2ForCTC\n",
    "\n",
    "# Load ASR model\n",
    "model_name = \"jonatasgrosman/wav2vec2-large-xlsr-53-arabic\"\n",
    "processor = Wav2Vec2Processor.from_pretrained(model_name)\n",
    "model = Wav2Vec2ForCTC.from_pretrained(model_name)\n",
    "\n",
    "print(\"ASR Model Loaded Successfully!\")\n"
   ]
  },
  {
   "cell_type": "code",
   "execution_count": 8,
   "id": "301b3566-bbdd-4c94-b34e-907d5b6032b3",
   "metadata": {},
   "outputs": [
    {
     "name": "stdout",
     "output_type": "stream",
     "text": [
      "Transcription: بِسْمِ اللَهِ الرَّحْمَنِ الرّحِيمِ\n"
     ]
    }
   ],
   "source": [
    "import torchaudio\n",
    "import librosa\n",
    "import torch\n",
    "\n",
    "# Path to test audio (wav)\n",
    "audio_path = \"../audio_samples/Yasser_Al-Dossari_1_1_1.wav\"  \n",
    "\n",
    "# Load + resample audio to 16kHz \n",
    "waveform, sample_rate = librosa.load(audio_path, sr=16000)\n",
    "\n",
    "# Convert to tensor format\n",
    "input_values = processor(waveform, return_tensors=\"pt\", sampling_rate=16000).input_values\n",
    "\n",
    "# Perform inference\n",
    "with torch.no_grad():\n",
    "    logits = model(input_values).logits\n",
    "\n",
    "# Decode predictions\n",
    "predicted_ids = torch.argmax(logits, dim=-1)\n",
    "transcription = processor.batch_decode(predicted_ids)[0]\n",
    "\n",
    "print(\"Transcription:\", transcription)\n"
   ]
  },
  {
   "cell_type": "code",
   "execution_count": null,
   "id": "1347a426-fe08-40d6-a097-ee9e2e43415f",
   "metadata": {},
   "outputs": [],
   "source": []
  }
 ],
 "metadata": {
  "kernelspec": {
   "display_name": "asr_env",
   "language": "python",
   "name": "python3"
  },
  "language_info": {
   "codemirror_mode": {
    "name": "ipython",
    "version": 3
   },
   "file_extension": ".py",
   "mimetype": "text/x-python",
   "name": "python",
   "nbconvert_exporter": "python",
   "pygments_lexer": "ipython3",
   "version": "3.9.18"
  }
 },
 "nbformat": 4,
 "nbformat_minor": 5
}
